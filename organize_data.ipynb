{
 "cells": [
  {
   "cell_type": "code",
   "execution_count": 2,
   "metadata": {},
   "outputs": [],
   "source": [
    "import pandas as pd"
   ]
  },
  {
   "cell_type": "code",
   "execution_count": 21,
   "metadata": {},
   "outputs": [],
   "source": [
    "imdb_df = pd.read_csv('data/imdb_data/principals.tsv', delimiter='\\t')"
   ]
  },
  {
   "cell_type": "code",
   "execution_count": 19,
   "metadata": {},
   "outputs": [
    {
     "data": {
      "text/plain": [
       "Index(['nconst', 'primaryName', 'birthYear', 'deathYear', 'primaryProfession',\n",
       "       'knownForTitles'],\n",
       "      dtype='object')"
      ]
     },
     "execution_count": 19,
     "metadata": {},
     "output_type": "execute_result"
    }
   ],
   "source": [
    "imdb_df.columns"
   ]
  },
  {
   "cell_type": "code",
   "execution_count": 25,
   "metadata": {},
   "outputs": [],
   "source": [
    "occupations = imdb_df.groupby('category')"
   ]
  },
  {
   "cell_type": "code",
   "execution_count": 27,
   "metadata": {},
   "outputs": [
    {
     "name": "stdout",
     "output_type": "stream",
     "text": [
      "actor contains 13243205 rows\n",
      "actress contains 10330526 rows\n",
      "archive_footage contains 394354 rows\n",
      "archive_sound contains 4475 rows\n",
      "cinematographer contains 2040144 rows\n",
      "composer contains 1986446 rows\n",
      "director contains 6911715 rows\n",
      "editor contains 1983973 rows\n",
      "producer contains 3898107 rows\n",
      "production_designer contains 380708 rows\n",
      "self contains 10380481 rows\n",
      "writer contains 8387216 rows\n"
     ]
    }
   ],
   "source": [
    "for x, y in occupations:\n",
    "    print(f\"{x} contains {y.shape[0]} rows\")"
   ]
  },
  {
   "cell_type": "code",
   "execution_count": null,
   "metadata": {},
   "outputs": [],
   "source": []
  }
 ],
 "metadata": {
  "kernelspec": {
   "display_name": "Python 3",
   "language": "python",
   "name": "python3"
  },
  "language_info": {
   "codemirror_mode": {
    "name": "ipython",
    "version": 3
   },
   "file_extension": ".py",
   "mimetype": "text/x-python",
   "name": "python",
   "nbconvert_exporter": "python",
   "pygments_lexer": "ipython3",
   "version": "3.11.6"
  }
 },
 "nbformat": 4,
 "nbformat_minor": 2
}
